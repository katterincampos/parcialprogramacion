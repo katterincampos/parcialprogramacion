{
  "nbformat": 4,
  "nbformat_minor": 0,
  "metadata": {
    "colab": {
      "provenance": [],
      "authorship_tag": "ABX9TyOHGC63SERP8Z1Z43cPyf2n",
      "include_colab_link": true
    },
    "kernelspec": {
      "name": "python3",
      "display_name": "Python 3"
    },
    "language_info": {
      "name": "python"
    }
  },
  "cells": [
    {
      "cell_type": "markdown",
      "metadata": {
        "id": "view-in-github",
        "colab_type": "text"
      },
      "source": [
        "<a href=\"https://colab.research.google.com/github/katterincampos/parcialprogramacion/blob/main/Ejercicio2.ipynb\" target=\"_parent\"><img src=\"https://colab.research.google.com/assets/colab-badge.svg\" alt=\"Open In Colab\"/></a>"
      ]
    },
    {
      "cell_type": "markdown",
      "source": [
        "2.\tDesarrolle un algoritmo en Python que calcule el IMPUESTO A LAS ACTIVIDADES ECONOMICAS de acuerdo con la siguiente tabla. El monto de la actividad económica debe ser introducido por el usuario. (30%)"
      ],
      "metadata": {
        "id": "fiLkgUORzjhN"
      }
    },
    {
      "cell_type": "markdown",
      "source": [
        "Katterin Yeferin Campos Rodriguez"
      ],
      "metadata": {
        "id": "5NUZqu4ZEQ6S"
      }
    },
    {
      "cell_type": "code",
      "execution_count": null,
      "metadata": {
        "colab": {
          "base_uri": "https://localhost:8080/"
        },
        "id": "QyJaVtMrzesq",
        "outputId": "2eac2728-cf02-438d-bbdd-c3ed9721d821"
      },
      "outputs": [
        {
          "output_type": "stream",
          "name": "stdout",
          "text": [
            "Cual es el monto de tu actividad economica?: 20000\n",
            "El impuesto a pagar es $:  42.99998\n"
          ]
        }
      ],
      "source": [
        "actividad_economica=float(input('Cual es el monto de tu actividad economica?: '))\n",
        "if actividad_economica>0.01 and actividad_economica<=500:\n",
        "    impuesto=actividad_economica -0.01\n",
        "    total=(impuesto/1000)*0.0+1.5\n",
        "elif actividad_economica>500.01 and actividad_economica<=1000:\n",
        "    impuesto=actividad_economica - 500.01\n",
        "    total=(impuesto/1000)*3.0+1.5\n",
        "elif actividad_economica>1000.01 and actividad_economica<=2000:\n",
        "    impuesto=actividad_economica - 1000.01\n",
        "    total=(impuesto/1000)*3.0+3.0\n",
        "elif actividad_economica>2000.01 and actividad_economica<=3000:\n",
        "    impuesto=actividad_economica - 2000.01\n",
        "    total=(impuesto/1000)*3.0+6.0\n",
        "elif actividad_economica>3000.01 and actividad_economica<=6000:\n",
        "    impuesto=actividad_economica - 3000.01\n",
        "    total=(impuesto/1000)*2.0+9.0\n",
        "elif actividad_economica>8000.01 and actividad_economica<=18000:\n",
        "    impuesto=actividad_economica - 8000.01\n",
        "    total=(impuesto/1000)*2.0+15.0\n",
        "elif actividad_economica>18000.01 and actividad_economica<=30000:\n",
        "    impuesto=actividad_economica - 18000.01\n",
        "    total=(impuesto/1000)*2+39\n",
        "elif actividad_economica>30000.01 and actividad_economica<=60000:\n",
        "    impuesto=actividad_economica - 30000.01\n",
        "    total=(impuesto/1000)*1.0+63.0\n",
        "elif actividad_economica>60000.01 and actividad_economica<=100000:\n",
        "   impuesto=actividad_economica - 60000.01\n",
        "   total=(impuesto/1000)*0.8+93.0\n",
        "elif actividad_economica>100000.01 and actividad_economica<=200000:\n",
        "   impuesto=actividad_economica - 100000.01\n",
        "   total=(impuesto/1000)*0.7+125.0\n",
        "elif actividad_economica>200000.01 and actividad_economica<=300000:\n",
        "   impuesto=actividad_economica - 200000.01\n",
        "   total=(impuesto/1000)*0.6+195.0\n",
        "elif actividad_economica>300000.01 and actividad_economica<=400000:\n",
        "   impuesto=actividad_economica - 300000.01\n",
        "   total=(impuesto/1000)*0.45+255.0\n",
        "elif actividad_economica>400000.01 and actividad_economica<=500000:\n",
        "   impuesto=actividad_economica - 400000.01\n",
        "   total=(impuesto/1000)*0.4+300.0\n",
        "elif actividad_economica>500000.01 and actividad_economica<=1000000:\n",
        "   impuesto=actividad_economica - 500000.01\n",
        "   total=(impuesto/1000)*0.30+340.0\n",
        "elif actividad_economica>1000000.01 and actividad_economica<=99999999:\n",
        "  impuesto=actividad_economica - 1000000.01\n",
        "  total=(impuesto/1000)*0.18+490.0\n",
        "\n",
        "else:\n",
        "    impuesto=0\n",
        "print('El impuesto a pagar es $: ', total)"
      ]
    }
  ]
}